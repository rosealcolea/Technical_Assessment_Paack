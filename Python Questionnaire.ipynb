{
 "cells": [
  {
   "cell_type": "markdown",
   "metadata": {},
   "source": [
    "## Python Questionnaire\n",
    "**Rose Alcolea**"
   ]
  },
  {
   "cell_type": "code",
   "execution_count": 30,
   "metadata": {},
   "outputs": [],
   "source": [
    "import pandas as pd\n",
    "import numpy as np\n",
    "import os"
   ]
  },
  {
   "cell_type": "markdown",
   "metadata": {},
   "source": [
    "#### Question 1\n",
    "Can you sort a numerical list in Python?"
   ]
  },
  {
   "cell_type": "code",
   "execution_count": 7,
   "metadata": {},
   "outputs": [
    {
     "name": "stdout",
     "output_type": "stream",
     "text": [
      "[1, 2, 5, 8, 10]\n"
     ]
    }
   ],
   "source": [
    "lst = [5, 8, 1, 2, 10]\n",
    "\n",
    "lst.sort()\n",
    "print(lst)"
   ]
  },
  {
   "cell_type": "markdown",
   "metadata": {},
   "source": [
    "#### Question 2\n",
    "Write a code to count the number of capital letters in the “drivers_table.csv” file.\n"
   ]
  },
  {
   "cell_type": "code",
   "execution_count": 16,
   "metadata": {},
   "outputs": [
    {
     "name": "stdout",
     "output_type": "stream",
     "text": [
      "1384\n"
     ]
    }
   ],
   "source": [
    "# Creating a loop that will count +1 everytime it encounters a capital letter\n",
    "with open('./data/drivers_table.csv') as content:\n",
    "    count = 0\n",
    "    text = content.read()\n",
    "    for letter in text:\n",
    "        if letter.isupper():\n",
    "            count += 1\n",
    "print(count)"
   ]
  },
  {
   "cell_type": "markdown",
   "metadata": {},
   "source": [
    "#### Question 3\n",
    "Write a function that lists the files in a path with a specific file extension.\n"
   ]
  },
  {
   "cell_type": "code",
   "execution_count": 15,
   "metadata": {},
   "outputs": [
    {
     "name": "stdout",
     "output_type": "stream",
     "text": [
      "./data/orders_table.csv\n",
      "./data/drivers_table.csv\n",
      "./data/drivers_summary.csv\n"
     ]
    }
   ],
   "source": [
    "for file in os.listdir(\"./data\"):\n",
    "    if file.endswith(\".csv\"):\n",
    "        print(os.path.join(\"./data\", file))"
   ]
  },
  {
   "cell_type": "markdown",
   "metadata": {},
   "source": [
    "#### Question 4\n",
    "Could you provide a code that executes the query you have created previously\n",
    "in question 6 of SQL and export the result to a CSV?\n",
    "\n",
    "Write a query showing the productivity of each driver per day. Productivity is the\n",
    "number of orders that have been attempted per hour (orders attempted/hour)\n"
   ]
  },
  {
   "cell_type": "code",
   "execution_count": 19,
   "metadata": {},
   "outputs": [],
   "source": [
    "# Opening the needed files with pandas\n",
    "d = pd.read_csv('./data/drivers_table.csv')\n",
    "o = pd.read_csv('./data/orders_table.csv')"
   ]
  },
  {
   "cell_type": "code",
   "execution_count": 20,
   "metadata": {},
   "outputs": [
    {
     "data": {
      "text/html": [
       "<div>\n",
       "<style scoped>\n",
       "    .dataframe tbody tr th:only-of-type {\n",
       "        vertical-align: middle;\n",
       "    }\n",
       "\n",
       "    .dataframe tbody tr th {\n",
       "        vertical-align: top;\n",
       "    }\n",
       "\n",
       "    .dataframe thead th {\n",
       "        text-align: right;\n",
       "    }\n",
       "</style>\n",
       "<table border=\"1\" class=\"dataframe\">\n",
       "  <thead>\n",
       "    <tr style=\"text-align: right;\">\n",
       "      <th></th>\n",
       "      <th>id</th>\n",
       "      <th>driver</th>\n",
       "      <th>invoice_details</th>\n",
       "      <th>vehicle</th>\n",
       "    </tr>\n",
       "  </thead>\n",
       "  <tbody>\n",
       "    <tr>\n",
       "      <th>0</th>\n",
       "      <td>1</td>\n",
       "      <td>ALBERTO</td>\n",
       "      <td>CARGO</td>\n",
       "      <td>Motorbike</td>\n",
       "    </tr>\n",
       "  </tbody>\n",
       "</table>\n",
       "</div>"
      ],
      "text/plain": [
       "   id   driver invoice_details    vehicle\n",
       "0   1  ALBERTO           CARGO  Motorbike"
      ]
     },
     "execution_count": 20,
     "metadata": {},
     "output_type": "execute_result"
    }
   ],
   "source": [
    "d.head(1)"
   ]
  },
  {
   "cell_type": "code",
   "execution_count": 21,
   "metadata": {},
   "outputs": [
    {
     "data": {
      "text/html": [
       "<div>\n",
       "<style scoped>\n",
       "    .dataframe tbody tr th:only-of-type {\n",
       "        vertical-align: middle;\n",
       "    }\n",
       "\n",
       "    .dataframe tbody tr th {\n",
       "        vertical-align: top;\n",
       "    }\n",
       "\n",
       "    .dataframe thead th {\n",
       "        text-align: right;\n",
       "    }\n",
       "</style>\n",
       "<table border=\"1\" class=\"dataframe\">\n",
       "  <thead>\n",
       "    <tr style=\"text-align: right;\">\n",
       "      <th></th>\n",
       "      <th>id</th>\n",
       "      <th>Paack order number</th>\n",
       "      <th>driver_id</th>\n",
       "      <th>Deliver date</th>\n",
       "      <th>Delivery Start</th>\n",
       "      <th>Delivery End</th>\n",
       "      <th>Attempted time</th>\n",
       "      <th>Order Status</th>\n",
       "      <th>country</th>\n",
       "      <th>Company</th>\n",
       "    </tr>\n",
       "  </thead>\n",
       "  <tbody>\n",
       "    <tr>\n",
       "      <th>0</th>\n",
       "      <td>13016706</td>\n",
       "      <td>64516863</td>\n",
       "      <td>99</td>\n",
       "      <td>01/10/2020</td>\n",
       "      <td>01/10/2020 11:00</td>\n",
       "      <td>01/10/2020 13:00</td>\n",
       "      <td>01/10/2020 11:53</td>\n",
       "      <td>delivered</td>\n",
       "      <td>ES</td>\n",
       "      <td>BIG STORE</td>\n",
       "    </tr>\n",
       "  </tbody>\n",
       "</table>\n",
       "</div>"
      ],
      "text/plain": [
       "         id  Paack order number  driver_id Deliver date    Delivery Start  \\\n",
       "0  13016706            64516863         99   01/10/2020  01/10/2020 11:00   \n",
       "\n",
       "       Delivery End    Attempted time Order Status country    Company  \n",
       "0  01/10/2020 13:00  01/10/2020 11:53    delivered      ES  BIG STORE  "
      ]
     },
     "execution_count": 21,
     "metadata": {},
     "output_type": "execute_result"
    }
   ],
   "source": [
    "o.head(1)"
   ]
  },
  {
   "cell_type": "code",
   "execution_count": 29,
   "metadata": {},
   "outputs": [
    {
     "data": {
      "text/html": [
       "<div>\n",
       "<style scoped>\n",
       "    .dataframe tbody tr th:only-of-type {\n",
       "        vertical-align: middle;\n",
       "    }\n",
       "\n",
       "    .dataframe tbody tr th {\n",
       "        vertical-align: top;\n",
       "    }\n",
       "\n",
       "    .dataframe thead th {\n",
       "        text-align: right;\n",
       "    }\n",
       "</style>\n",
       "<table border=\"1\" class=\"dataframe\">\n",
       "  <thead>\n",
       "    <tr style=\"text-align: right;\">\n",
       "      <th></th>\n",
       "      <th>id_x</th>\n",
       "      <th>Paack order number</th>\n",
       "      <th>driver_id</th>\n",
       "      <th>Deliver date</th>\n",
       "      <th>Delivery Start</th>\n",
       "      <th>Delivery End</th>\n",
       "      <th>Attempted time</th>\n",
       "      <th>Order Status</th>\n",
       "      <th>country</th>\n",
       "      <th>Company</th>\n",
       "      <th>driver</th>\n",
       "      <th>invoice_details</th>\n",
       "      <th>vehicle</th>\n",
       "    </tr>\n",
       "  </thead>\n",
       "  <tbody>\n",
       "    <tr>\n",
       "      <th>0</th>\n",
       "      <td>13016706</td>\n",
       "      <td>64516863</td>\n",
       "      <td>99</td>\n",
       "      <td>01/10/2020</td>\n",
       "      <td>01/10/2020 11:00</td>\n",
       "      <td>01/10/2020 13:00</td>\n",
       "      <td>01/10/2020 11:53</td>\n",
       "      <td>delivered</td>\n",
       "      <td>ES</td>\n",
       "      <td>BIG STORE</td>\n",
       "      <td>LUIS MIGUEL</td>\n",
       "      <td>SAK</td>\n",
       "      <td>Van/Car</td>\n",
       "    </tr>\n",
       "    <tr>\n",
       "      <th>1</th>\n",
       "      <td>13017070</td>\n",
       "      <td>616544</td>\n",
       "      <td>99</td>\n",
       "      <td>01/10/2020</td>\n",
       "      <td>01/10/2020 11:00</td>\n",
       "      <td>01/10/2020 13:00</td>\n",
       "      <td>01/10/2020 11:59</td>\n",
       "      <td>delivered</td>\n",
       "      <td>ES</td>\n",
       "      <td>BIG STORE</td>\n",
       "      <td>LUIS MIGUEL</td>\n",
       "      <td>SAK</td>\n",
       "      <td>Van/Car</td>\n",
       "    </tr>\n",
       "    <tr>\n",
       "      <th>2</th>\n",
       "      <td>13026261</td>\n",
       "      <td>53283660</td>\n",
       "      <td>26</td>\n",
       "      <td>01/10/2020</td>\n",
       "      <td>01/10/2020 13:00</td>\n",
       "      <td>01/10/2020 15:00</td>\n",
       "      <td>01/10/2020 13:07</td>\n",
       "      <td>delivered</td>\n",
       "      <td>FR</td>\n",
       "      <td>LITTLE STORE</td>\n",
       "      <td>IKER</td>\n",
       "      <td>COSTA</td>\n",
       "      <td>Van/Car</td>\n",
       "    </tr>\n",
       "    <tr>\n",
       "      <th>3</th>\n",
       "      <td>13027827</td>\n",
       "      <td>75276804</td>\n",
       "      <td>26</td>\n",
       "      <td>01/10/2020</td>\n",
       "      <td>01/10/2020 10:00</td>\n",
       "      <td>01/10/2020 14:00</td>\n",
       "      <td>01/10/2020 11:44</td>\n",
       "      <td>delivered</td>\n",
       "      <td>ES</td>\n",
       "      <td>COFFE STORE</td>\n",
       "      <td>IKER</td>\n",
       "      <td>COSTA</td>\n",
       "      <td>Van/Car</td>\n",
       "    </tr>\n",
       "    <tr>\n",
       "      <th>4</th>\n",
       "      <td>13019173</td>\n",
       "      <td>4045773</td>\n",
       "      <td>26</td>\n",
       "      <td>01/10/2020</td>\n",
       "      <td>01/10/2020 10:00</td>\n",
       "      <td>01/10/2020 14:00</td>\n",
       "      <td>01/10/2020 13:13</td>\n",
       "      <td>delivered</td>\n",
       "      <td>ES</td>\n",
       "      <td>COFFE STORE</td>\n",
       "      <td>IKER</td>\n",
       "      <td>COSTA</td>\n",
       "      <td>Van/Car</td>\n",
       "    </tr>\n",
       "  </tbody>\n",
       "</table>\n",
       "</div>"
      ],
      "text/plain": [
       "       id_x  Paack order number  driver_id Deliver date    Delivery Start  \\\n",
       "0  13016706            64516863         99   01/10/2020  01/10/2020 11:00   \n",
       "1  13017070              616544         99   01/10/2020  01/10/2020 11:00   \n",
       "2  13026261            53283660         26   01/10/2020  01/10/2020 13:00   \n",
       "3  13027827            75276804         26   01/10/2020  01/10/2020 10:00   \n",
       "4  13019173             4045773         26   01/10/2020  01/10/2020 10:00   \n",
       "\n",
       "       Delivery End    Attempted time Order Status country       Company  \\\n",
       "0  01/10/2020 13:00  01/10/2020 11:53    delivered      ES     BIG STORE   \n",
       "1  01/10/2020 13:00  01/10/2020 11:59    delivered      ES     BIG STORE   \n",
       "2  01/10/2020 15:00  01/10/2020 13:07    delivered      FR  LITTLE STORE   \n",
       "3  01/10/2020 14:00  01/10/2020 11:44    delivered      ES   COFFE STORE   \n",
       "4  01/10/2020 14:00  01/10/2020 13:13    delivered      ES   COFFE STORE   \n",
       "\n",
       "        driver invoice_details  vehicle  \n",
       "0  LUIS MIGUEL             SAK  Van/Car  \n",
       "1  LUIS MIGUEL             SAK  Van/Car  \n",
       "2         IKER           COSTA  Van/Car  \n",
       "3         IKER           COSTA  Van/Car  \n",
       "4         IKER           COSTA  Van/Car  "
      ]
     },
     "execution_count": 29,
     "metadata": {},
     "output_type": "execute_result"
    }
   ],
   "source": [
    "# Merging the two tables\n",
    "full = pd.merge(o, d, left_on = 'driver_id', right_on = 'id')\n",
    "full.drop('id_y', axis=1, inplace=True)\n",
    "full.head()"
   ]
  },
  {
   "cell_type": "code",
   "execution_count": 51,
   "metadata": {},
   "outputs": [],
   "source": [
    "# Creating a new column that takes only the hour at which each attempt was made\n",
    "full['hour'] = [re.findall(' [0-9]{2}', x)[0] for x in full['Attempted time']]"
   ]
  },
  {
   "cell_type": "code",
   "execution_count": 77,
   "metadata": {},
   "outputs": [
    {
     "data": {
      "text/html": [
       "<div>\n",
       "<style scoped>\n",
       "    .dataframe tbody tr th:only-of-type {\n",
       "        vertical-align: middle;\n",
       "    }\n",
       "\n",
       "    .dataframe tbody tr th {\n",
       "        vertical-align: top;\n",
       "    }\n",
       "\n",
       "    .dataframe thead th {\n",
       "        text-align: right;\n",
       "    }\n",
       "</style>\n",
       "<table border=\"1\" class=\"dataframe\">\n",
       "  <thead>\n",
       "    <tr style=\"text-align: right;\">\n",
       "      <th></th>\n",
       "      <th>Driver Id</th>\n",
       "      <th>Attempts Made</th>\n",
       "      <th>Hours Worked</th>\n",
       "      <th>Productivity</th>\n",
       "    </tr>\n",
       "  </thead>\n",
       "  <tbody>\n",
       "    <tr>\n",
       "      <th>7</th>\n",
       "      <td>12</td>\n",
       "      <td>4</td>\n",
       "      <td>1</td>\n",
       "      <td>4.0</td>\n",
       "    </tr>\n",
       "    <tr>\n",
       "      <th>30</th>\n",
       "      <td>35</td>\n",
       "      <td>3</td>\n",
       "      <td>1</td>\n",
       "      <td>3.0</td>\n",
       "    </tr>\n",
       "    <tr>\n",
       "      <th>38</th>\n",
       "      <td>43</td>\n",
       "      <td>3</td>\n",
       "      <td>1</td>\n",
       "      <td>3.0</td>\n",
       "    </tr>\n",
       "    <tr>\n",
       "      <th>83</th>\n",
       "      <td>93</td>\n",
       "      <td>3</td>\n",
       "      <td>1</td>\n",
       "      <td>3.0</td>\n",
       "    </tr>\n",
       "    <tr>\n",
       "      <th>50</th>\n",
       "      <td>56</td>\n",
       "      <td>3</td>\n",
       "      <td>1</td>\n",
       "      <td>3.0</td>\n",
       "    </tr>\n",
       "    <tr>\n",
       "      <th>...</th>\n",
       "      <td>...</td>\n",
       "      <td>...</td>\n",
       "      <td>...</td>\n",
       "      <td>...</td>\n",
       "    </tr>\n",
       "    <tr>\n",
       "      <th>52</th>\n",
       "      <td>58</td>\n",
       "      <td>2</td>\n",
       "      <td>2</td>\n",
       "      <td>1.0</td>\n",
       "    </tr>\n",
       "    <tr>\n",
       "      <th>54</th>\n",
       "      <td>60</td>\n",
       "      <td>1</td>\n",
       "      <td>1</td>\n",
       "      <td>1.0</td>\n",
       "    </tr>\n",
       "    <tr>\n",
       "      <th>55</th>\n",
       "      <td>62</td>\n",
       "      <td>2</td>\n",
       "      <td>2</td>\n",
       "      <td>1.0</td>\n",
       "    </tr>\n",
       "    <tr>\n",
       "      <th>56</th>\n",
       "      <td>63</td>\n",
       "      <td>1</td>\n",
       "      <td>1</td>\n",
       "      <td>1.0</td>\n",
       "    </tr>\n",
       "    <tr>\n",
       "      <th>88</th>\n",
       "      <td>100</td>\n",
       "      <td>1</td>\n",
       "      <td>1</td>\n",
       "      <td>1.0</td>\n",
       "    </tr>\n",
       "  </tbody>\n",
       "</table>\n",
       "<p>89 rows × 4 columns</p>\n",
       "</div>"
      ],
      "text/plain": [
       "    Driver Id  Attempts Made  Hours Worked  Productivity\n",
       "7          12              4             1           4.0\n",
       "30         35              3             1           3.0\n",
       "38         43              3             1           3.0\n",
       "83         93              3             1           3.0\n",
       "50         56              3             1           3.0\n",
       "..        ...            ...           ...           ...\n",
       "52         58              2             2           1.0\n",
       "54         60              1             1           1.0\n",
       "55         62              2             2           1.0\n",
       "56         63              1             1           1.0\n",
       "88        100              1             1           1.0\n",
       "\n",
       "[89 rows x 4 columns]"
      ]
     },
     "execution_count": 77,
     "metadata": {},
     "output_type": "execute_result"
    }
   ],
   "source": [
    "# Creating a pivot table grouping by driver id and counting the amount of hours worked and the amount of attempts made\n",
    "results = pd.pivot_table(full, values='hour', index='driver_id', aggfunc=['count', lambda x: len(x.unique())]).reset_index()\n",
    "results.columns = ['Driver Id', 'Attempts Made', 'Hours Worked']\n",
    "\n",
    "# Adding a column that calculates each driver's productivity\n",
    "results['Productivity'] = results['Attempts Made']/results['Hours Worked']\n",
    "results.sort_values('Productivity', ascending=False)"
   ]
  },
  {
   "cell_type": "markdown",
   "metadata": {},
   "source": [
    "#### Question 5\n",
    "Can you write a code that executes a query in one database and insert the data\n",
    "in a different database?\n"
   ]
  },
  {
   "cell_type": "code",
   "execution_count": null,
   "metadata": {},
   "outputs": [],
   "source": [
    "# Defining the connexion to each database\n",
    "conn_p = p.connect(\"dbname='paack_1' user='postgres' password='postgres' host='localhost'\")\n",
    "strt=\"dbname='paack_2' user='postgres' password='postgres' host='localhost'\"\n",
    "cur_p = conn_p.cursor();\n",
    "\n",
    "# Writing the query I want to insert in the other database & executing the transfer\n",
    "# Note: I use dblink for faster processing\n",
    "cur_p.execute(\"select dblink_connect('tmpdb',%s);\",(strt,));\n",
    "cur_p.execute(\"\"\"\n",
    "  insert into \"new_table\" (driver_id, country, Company)\n",
    "  SELECT * FROM dblink('tmpdb')\n",
    "\"\"\")\n",
    "\n",
    "# Disconnecting\n",
    "cur_p.execute(\"SELECT dblink_disconnect('tmpdb');\");\n",
    "\n",
    "# Note: I was not able to check if this code runs properly but it should. \n",
    "# In a real case scenario I would check it and modify it until it achieves the desired result."
   ]
  }
 ],
 "metadata": {
  "kernelspec": {
   "display_name": "Python 3",
   "language": "python",
   "name": "python3"
  },
  "language_info": {
   "codemirror_mode": {
    "name": "ipython",
    "version": 3
   },
   "file_extension": ".py",
   "mimetype": "text/x-python",
   "name": "python",
   "nbconvert_exporter": "python",
   "pygments_lexer": "ipython3",
   "version": "3.8.6"
  }
 },
 "nbformat": 4,
 "nbformat_minor": 4
}
